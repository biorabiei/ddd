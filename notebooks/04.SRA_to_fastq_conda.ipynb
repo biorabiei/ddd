{
  "nbformat": 4,
  "nbformat_minor": 0,
  "metadata": {
    "colab": {
      "name": "04.SRA-to-fastq-conda.ipynb",
      "provenance": [],
      "gpuType": "T4",
      "include_colab_link": true
    },
    "kernelspec": {
      "name": "python3",
      "display_name": "Python 3"
    },
    "accelerator": "GPU"
  },
  "cells": [
    {
      "cell_type": "markdown",
      "metadata": {
        "id": "view-in-github",
        "colab_type": "text"
      },
      "source": [
        "<a href=\"https://colab.research.google.com/github/biorabiei/ddd/blob/master/notebooks/04.SRA_to_fastq_conda.ipynb\" target=\"_parent\"><img src=\"https://colab.research.google.com/assets/colab-badge.svg\" alt=\"Open In Colab\"/></a>"
      ]
    },
    {
      "cell_type": "markdown",
      "metadata": {
        "id": "iP2m8GEdate2"
      },
      "source": [
        "# Install Conda"
      ]
    },
    {
      "cell_type": "code",
      "metadata": {
        "id": "CSbjMUkfZYgB",
        "outputId": "1988d51f-3cb0-45f2-b504-d603c38ca62d",
        "colab": {
          "base_uri": "https://localhost:8080/"
        }
      },
      "source": [
        "!wget -c https://repo.anaconda.com/archive/Anaconda3-2023.09-0-Linux-x86_64.sh\n",
        "!chmod +x Anaconda3-2023.09-0-Linux-x86_64.sh\n",
        "!bash ./Anaconda3-2023.09-0-Linux-x86_64.sh -b -f -p /usr/local\n",
        "\n",
        "import sys\n",
        "\n",
        "sys.path.append(\"/usr/local/lib/python3.6/site-packages/\")\n",
        "\n",
        "!conda config --add channels defaults\n",
        "!conda config --add channels bioconda\n",
        "!conda config --add channels conda-forge"
      ],
      "execution_count": 1,
      "outputs": [
        {
          "output_type": "stream",
          "name": "stdout",
          "text": [
            "--2023-11-24 19:51:49--  https://repo.anaconda.com/archive/Anaconda3-2023.09-0-Linux-x86_64.sh\n",
            "Resolving repo.anaconda.com (repo.anaconda.com)... 104.16.131.3, 104.16.130.3, 2606:4700::6810:8303, ...\n",
            "Connecting to repo.anaconda.com (repo.anaconda.com)|104.16.131.3|:443... connected.\n",
            "HTTP request sent, awaiting response... 200 OK\n",
            "Length: 1153404010 (1.1G) [application/x-sh]\n",
            "Saving to: ‘Anaconda3-2023.09-0-Linux-x86_64.sh’\n",
            "\n",
            "Anaconda3-2023.09-0 100%[===================>]   1.07G   104MB/s    in 9.9s    \n",
            "\n",
            "2023-11-24 19:51:59 (111 MB/s) - ‘Anaconda3-2023.09-0-Linux-x86_64.sh’ saved [1153404010/1153404010]\n",
            "\n",
            "PREFIX=/usr/local\n",
            "Unpacking payload ...\n",
            "                                                                                                   \n",
            "Installing base environment...\n",
            "\n",
            "\n",
            "Downloading and Extracting Packages\n",
            "\n",
            "\n",
            "Downloading and Extracting Packages\n",
            "\n",
            "Preparing transaction: - \b\b\\ \b\b| \b\b/ \b\b- \b\b\\ \b\b| \b\b/ \b\b- \b\b\\ \b\b| \b\b/ \b\b- \b\b\\ \b\b| \b\b/ \b\b- \b\b\\ \b\b| \b\b/ \b\b- \b\b\\ \b\b| \b\b/ \b\b- \b\b\\ \b\b| \b\b/ \b\b- \b\b\\ \b\b| \b\b/ \b\b- \b\b\\ \b\b| \b\b/ \b\b- \b\b\\ \b\b| \b\b/ \b\b- \b\b\\ \b\b| \b\b/ \b\b- \b\b\\ \b\b| \b\b/ \b\b- \b\b\\ \b\b| \b\b/ \b\b- \b\b\\ \b\b| \b\b/ \b\b- \b\b\\ \b\b| \b\b/ \b\b- \b\b\\ \b\b| \b\b/ \b\b- \b\b\\ \b\b| \b\b/ \b\b- \b\b\\ \b\b| \b\b/ \b\b- \b\b\\ \b\b| \b\b/ \b\b- \b\b\\ \b\b| \b\b/ \b\b- \b\b\\ \b\b| \b\b/ \b\b- \b\b\\ \b\b| \b\b/ \b\b- \b\b\\ \b\b| \b\b/ \b\b- \b\b\\ \b\b| \b\b/ \b\b- \b\b\\ \b\b| \b\bdone\n",
            "Executing transaction: - \b\b\\ \b\b| \b\b/ \b\b- \b\b\\ \b\b| \b\b/ \b\b- \b\b\\ \b\b| \b\b/ \b\b- \b\b\\ \b\b| \b\b/ \b\b- \b\b\\ \b\b| \b\b/ \b\b- \b\b\\ \b\b| \b\b/ \b\b- \b\b\\ \b\b| \b\b/ \b\b- \b\b\\ \b\b| \b\b/ \b\b- \b\b\\ \b\b| \b\b/ \b\b- \b\b\\ \b\b| \b\b/ \b\b- \b\b\\ \b\b| \b\b/ \b\b- \b\b\\ \b\b| \b\b/ \b\b- \b\b\\ \b\b| \b\b/ \b\b- \b\b\\ \b\b| \b\b/ \b\b- \b\b\\ \b\b| \b\b/ \b\b- \b\b\\ \b\b| \b\b/ \b\b- \b\b\\ \b\b| \b\b/ \b\b- \b\b\\ \b\b| \b\b/ \b\b- \b\b\\ \b\b| \b\b/ \b\b- \b\b\\ \b\b| \b\b/ \b\b- \b\b\\ \b\b| \b\b/ \b\b- \b\b\\ \b\b| \b\b/ \b\b- \b\b\\ \b\b| \b\b/ \b\b- \b\b\\ \b\b| \b\b/ \b\b- \b\b\\ \b\b| \b\b/ \b\b- \b\b\\ \b\b| \b\b/ \b\b- \b\b\\ \b\b| \b\b/ \b\b- \b\b\\ \b\b| \b\b/ \b\b- \b\b\\ \b\b| \b\b/ \b\b- \b\b\\ \b\b| \b\b/ \b\b- \b\b\\ \b\b| \b\b/ \b\b- \b\b\\ \b\b| \b\b/ \b\b- \b\b\\ \b\b| \b\b/ \b\b- \b\b\\ \b\b| \b\b/ \b\b- \b\b\\ \b\b| \b\b/ \b\b- \b\b\\ \b\b| \b\b/ \b\b- \b\b\\ \b\b| \b\b/ \b\b- \b\b\\ \b\b| \b\b/ \b\b- \b\b\\ \b\b| \b\b/ \b\b- \b\b\\ \b\b| \b\b/ \b\b- \b\b\\ \b\b| \b\b/ \b\b- \b\b\\ \b\b| \b\b/ \b\b- \b\b\\ \b\b| \b\b/ \b\b- \b\b\\ \b\b| \b\b/ \b\b- \b\b\\ \b\b| \b\b/ \b\b- \b\b\\ \b\b| \b\b/ \b\b- \b\b\\ \b\b| \b\b/ \b\b- \b\b\\ \b\b| \b\b/ \b\b- \b\b\\ \b\b| \b\b/ \b\b- \b\b\\ \b\b| \b\b/ \b\b- \b\b\\ \b\b| \b\b/ \b\b- \b\b\\ \b\b| \b\b/ \b\b- \b\b\\ \b\b| \b\b/ \b\b- \b\b\\ \b\b| \b\b/ \b\b- \b\b\\ \b\b| \b\b/ \b\b- \b\b\\ \b\b| \b\b/ \b\b- \b\b\\ \b\b| \b\b/ \b\b- \b\b\\ \b\b| \b\b/ \b\b- \b\b\\ \b\b| \b\b/ \b\b- \b\b\\ \b\b| \b\b/ \b\b- \b\b\\ \b\b| \b\b/ \b\b- \b\b\\ \b\b| \b\b/ \b\b- \b\b\\ \b\b| \b\b/ \b\b- \b\b\\ \b\b| \b\b/ \b\b- \b\b\\ \b\b| \b\b/ \b\b- \b\b\\ \b\b| \b\b/ \b\b- \b\b\\ \b\b| \b\b/ \b\b- \b\b\\ \b\b| \b\b/ \b\b- \b\b\\ \b\b| \b\b/ \b\b- \b\b\\ \b\b| \b\b/ \b\b- \b\b\\ \b\b| \b\b/ \b\b- \b\b\\ \b\b| \b\b/ \b\b- \b\b\\ \b\b| \b\b/ \b\b- \b\b\\ \b\b| \b\b/ \b\b- \b\b\\ \b\b| \b\b/ \b\b- \b\b\\ \b\b| \b\b/ \b\b- \b\b\\ \b\b| \b\b/ \b\b- \b\b\\ \b\b| \b\b/ \b\b- \b\b\\ \b\b| \b\b/ \b\b- \b\b\\ \b\b| \b\b/ \b\b- \b\b\\ \b\b| \b\b/ \b\b- \b\b\\ \b\b| \b\b/ \b\b- \b\b\\ \b\b| \b\b/ \b\b- \b\b\\ \b\b| \b\b/ \b\b- \b\b\\ \b\b| \b\b/ \b\b- \b\b\\ \b\b| \b\b/ \b\b- \b\b\\ \b\b| \b\b/ \b\b- \b\b\\ \b\b| \b\b/ \b\b- \b\b\\ \b\b| \b\b/ \b\b- \b\b\\ \b\b| \b\b/ \n",
            "\n",
            "    Installed package of scikit-learn can be accelerated using scikit-learn-intelex.\n",
            "    More details are available here: https://intel.github.io/scikit-learn-intelex\n",
            "\n",
            "    For example:\n",
            "\n",
            "        $ conda install scikit-learn-intelex\n",
            "        $ python -m sklearnex my_application.py\n",
            "\n",
            "    \n",
            "\n",
            "\b\b- \b\b\\ \b\b| \b\b/ \b\b- \b\b\\ \b\b| \b\b/ \b\b- \b\b\\ \b\b| \b\b/ \b\b- \b\b\\ \b\b| \b\b/ \b\b- \b\b\\ \b\b| \b\b/ \b\b- \b\b\\ \b\b| \b\b/ \b\b- \b\b\\ \b\b| \b\b/ \b\b- \b\b\\ \b\b| \b\b/ \b\b- \b\b\\ \b\b| \b\b/ \b\b- \b\b\\ \b\b| \b\b/ \b\b- \b\b\\ \b\b| \b\b/ \b\b- \b\b\\ \b\b| \b\b/ \b\b- \b\b\\ \b\b| \b\b/ \b\b- \b\b\\ \b\b| \b\b/ \b\bdone\n",
            "installation finished.\n",
            "WARNING:\n",
            "    You currently have a PYTHONPATH environment variable set. This may cause\n",
            "    unexpected behavior when running the Python interpreter in Anaconda3.\n",
            "    For best results, please verify that your PYTHONPATH only points to\n",
            "    directories of packages that are compatible with the Python interpreter\n",
            "    in Anaconda3: /usr/local\n",
            "Warning: 'defaults' already in 'channels' list, moving to the top\n"
          ]
        }
      ]
    },
    {
      "cell_type": "markdown",
      "source": [
        "conda 22.11 update: The libmamba solver's experimental flag has been removed. To use the new solver, update conda in your base environment:"
      ],
      "metadata": {
        "id": "-G7MR_qi4-wZ"
      }
    },
    {
      "cell_type": "markdown",
      "source": [
        "you can run this but in iran sometimes maybe ......... :\n",
        "conda update -n base conda"
      ],
      "metadata": {
        "id": "2zYq-uu95B5r"
      }
    },
    {
      "cell_type": "markdown",
      "source": [
        "To install and set the new solver, run the following commands:"
      ],
      "metadata": {
        "id": "YaSpKckn5Kzt"
      }
    },
    {
      "cell_type": "code",
      "source": [
        "!conda install -n base conda-libmamba-solver\n",
        "!conda config --set solver libmamba"
      ],
      "metadata": {
        "colab": {
          "base_uri": "https://localhost:8080/"
        },
        "id": "2pNtsznh5Ju-",
        "outputId": "e418b7d7-53e1-4701-ef4e-07ffc415af7d"
      },
      "execution_count": 3,
      "outputs": [
        {
          "output_type": "stream",
          "name": "stdout",
          "text": [
            "Collecting package metadata (current_repodata.json): - \b\b\\ \b\b| \b\b/ \b\b- \b\b\\ \b\b| \b\b/ \b\b- \b\b\\ \b\b| \b\b/ \b\b- \b\b\\ \b\b| \b\b/ \b\b- \b\b\\ \b\b| \b\b/ \b\b- \b\b\\ \b\b| \b\b/ \b\b- \b\b\\ \b\b| \b\b/ \b\b- \b\b\\ \b\b| \b\b/ \b\b- \b\b\\ \b\b| \b\b/ \b\b- \b\b\\ \b\b| \b\b/ \b\b- \b\b\\ \b\b| \b\b/ \b\b- \b\b\\ \b\b| \b\b/ \b\b- \b\b\\ \b\b| \b\b/ \b\b- \b\b\\ \b\b| \b\b/ \b\b- \b\b\\ \b\b| \b\b/ \b\b- \b\b\\ \b\b| \b\b/ \b\b- \b\b\\ \b\b| \b\b/ \b\b- \b\b\\ \b\b| \b\b/ \b\b- \b\b\\ \b\b| \b\b/ \b\b- \b\b\\ \b\b| \b\b/ \b\b- \b\b\\ \b\b| \b\b/ \b\b- \b\b\\ \b\b| \b\b/ \b\b- \b\b\\ \b\b| \b\b/ \b\b- \b\b\\ \b\b| \b\b/ \b\b- \b\b\\ \b\b| \b\b/ \b\b- \b\b\\ \b\b| \b\b/ \b\b- \b\b\\ \b\b| \b\b/ \b\b- \b\b\\ \b\b| \b\b/ \b\b- \b\b\\ \b\b| \b\b/ \b\b- \b\b\\ \b\b| \b\b/ \b\b- \b\b\\ \b\b| \b\b/ \b\b- \b\b\\ \b\b| \b\b/ \b\b- \b\b\\ \b\b| \b\b/ \b\b- \b\b\\ \b\b| \b\b/ \b\b- \b\b\\ \b\b| \b\b/ \b\b- \b\b\\ WARNING conda.models.version:get_matcher(556): Using .* with relational operator is superfluous and deprecated and will be removed in a future version of conda. Your spec was 1.7.1.*, but conda is ignoring the .* and treating it as 1.7.1\n",
            "\b\b| \b\b/ \b\b- \b\b\\ \b\b| \b\b/ \b\b- \b\b\\ \b\b| \b\b/ \b\b- \b\b\\ \b\b| \b\b/ \b\b- \b\b\\ \b\b| \b\b/ \b\b- \b\b\\ \b\b| \b\b/ \b\b- \b\b\\ \b\b| \b\b/ \b\b- \b\b\\ \b\b| \b\b/ \b\b- \b\b\\ \b\b| \b\b/ \b\b- \b\b\\ \b\b| \b\b/ \b\b- \b\b\\ \b\b| \b\b/ \b\b- \b\b\\ \b\b| \b\b/ \b\b- \b\b\\ \b\b| \b\b/ \b\b- \b\b\\ \b\b| \b\b/ \b\b- \b\b\\ \b\b| \b\b/ \b\b- \b\b\\ \b\b| \b\b/ \b\b- \b\b\\ \b\b| \b\b/ \b\b- \b\b\\ \b\b| \b\b/ \b\b- \b\b\\ \b\b| \b\b/ \b\b- \b\b\\ \b\b| \b\b/ \b\b- \b\b\\ \b\b| \b\b/ \b\b- \b\b\\ \b\b| \b\b/ \b\b- \b\b\\ \b\b| \b\b/ \b\b- \b\b\\ \b\b| \b\b/ \b\b- \b\b\\ \b\b| \b\b/ \b\b- \b\b\\ \b\b| \b\b/ \b\b- \b\b\\ \b\b| \b\b/ \b\b- \b\b\\ \b\b| \b\b/ \b\b- \b\b\\ \b\b| \b\b/ \b\b- \b\b\\ \b\b| \b\b/ \b\b- \b\b\\ \b\b| \b\b/ \b\b- \b\b\\ \b\b| \b\b/ \b\b- \b\b\\ \b\b| \b\b/ \b\b- \b\b\\ \b\b| \b\b/ \b\b- \b\b\\ \b\b| \b\b/ \b\b- \b\b\\ \b\b| \b\b/ \b\b- \b\b\\ \b\b| \b\b/ \b\b- \b\b\\ \b\b| \b\b/ \b\b- \b\b\\ \b\b| \b\b/ \b\b- \b\b\\ \b\b| \b\b/ \b\b- \b\b\\ \b\b| \b\b/ \b\b- \b\b\\ \b\b| \b\b/ \b\b- \b\b\\ \b\b| \b\b/ \b\b- \b\b\\ \b\b| \b\b/ \b\b- \b\b\\ \b\b| \b\b/ \b\b- \b\b\\ \b\b| \b\b/ \b\b- \b\b\\ \b\b| \b\b/ \b\b- \b\b\\ \b\b| \b\b/ \b\b- \b\b\\ \b\b| \b\b/ \b\b- \b\b\\ \b\b| \b\b/ \b\b- \b\b\\ \b\b| \b\b/ \b\b- \b\b\\ \b\b| \b\b/ \b\b- \b\b\\ \b\b| \b\b/ \b\b- \b\b\\ \b\b| \b\b/ \b\b- \b\b\\ \b\b| \b\b/ \b\b- \b\b\\ \b\b| \b\b/ \b\b- \b\b\\ \b\b| \b\b/ \b\b- \b\b\\ \b\b| \b\b/ \b\b- \b\b\\ \b\b| \b\b/ \b\b- \b\b\\ \b\b| \b\b/ \b\b- \b\bdone\n",
            "Solving environment: | \b\b/ \b\b- \b\b\\ \b\b| \b\b/ \b\b- \b\b\\ \b\b| \b\b/ \b\b- \b\b\\ \b\b| \b\b/ \b\b- \b\b\\ \b\b| \b\b/ \b\b- \b\b\\ \b\b| \b\b/ \b\b- \b\b\\ \b\b| \b\b/ \b\b- \b\b\\ \b\b| \b\b/ \b\b- \b\b\\ \b\b| \b\b/ \b\b- \b\b\\ \b\b| \b\b/ \b\b- \b\b\\ \b\b| \b\b/ \b\b- \b\b\\ \b\b| \b\b/ \b\b- \b\b\\ \b\b| \b\b/ \b\b- \b\b\\ \b\b| \b\b/ \b\b- \b\b\\ \b\b| \b\b/ \b\b- \b\b\\ \b\b| \b\b/ \b\b- \b\b\\ \b\b| \b\b/ \b\b- \b\b\\ \b\b| \b\b/ \b\b- \b\b\\ \b\b| \b\b/ \b\b- \b\b\\ \b\b| \b\b/ \b\b- \b\b\\ \b\b| \b\b/ \b\b- \b\b\\ \b\b| \b\b/ \b\b- \b\b\\ \b\b| \b\b/ \b\b- \b\b\\ \b\b| \b\b/ \b\b- \b\b\\ \b\b| \b\b/ \b\b- \b\b\\ \b\b| \b\b/ \b\b- \b\b\\ \b\b| \b\b/ \b\b- \b\b\\ \b\b| \b\b/ \b\b- \b\b\\ \b\b| \b\b/ \b\b- \b\b\\ \b\b| \b\b/ \b\b- \b\b\\ \b\b| \b\b/ \b\b- \b\b\\ \b\b| \b\b/ \b\b- \b\b\\ \b\b| \b\b/ \b\b- \b\b\\ \b\b| \b\b/ \b\b- \b\b\\ \b\b| \b\b/ \b\b- \b\b\\ \b\b| \b\b/ \b\b- \b\b\\ \b\b| \b\b/ \b\b- \b\b\\ \b\b| \b\b/ \b\b- \b\b\\ \b\b| \b\b/ \b\b- \b\b\\ \b\b| \b\b/ \b\b- \b\b\\ \b\b| \b\b/ \b\b- \b\b\\ \b\b| \b\b/ \b\b- \b\b\\ \b\b| \b\b/ \b\b- \b\b\\ \b\b| \b\b/ \b\b- \b\b\\ \b\b| \b\b/ \b\b- \b\b\\ \b\b| \b\b/ \b\b- \b\b\\ \b\b| \b\b/ \b\b- \b\b\\ \b\b| \b\b/ \b\b- \b\b\\ \b\b| \b\b/ \b\b- \b\b\\ \b\b| \b\b/ \b\b- \b\b\\ \b\b| \b\b/ \b\b- \b\b\\ \b\b| \b\b/ \b\bdone\n",
            "\n",
            "\n",
            "==> WARNING: A newer version of conda exists. <==\n",
            "  current version: 23.7.4\n",
            "  latest version: 23.10.0\n",
            "\n",
            "Please update conda by running\n",
            "\n",
            "    $ conda update -n base -c defaults conda\n",
            "\n",
            "Or to minimize the number of packages updated during conda update use\n",
            "\n",
            "     conda install conda=23.10.0\n",
            "\n",
            "\n",
            "\n",
            "## Package Plan ##\n",
            "\n",
            "  environment location: /usr/local\n",
            "\n",
            "  added / updated specs:\n",
            "    - conda-libmamba-solver\n",
            "\n",
            "\n",
            "The following packages will be downloaded:\n",
            "\n",
            "    package                    |            build\n",
            "    ---------------------------|-----------------\n",
            "    ca-certificates-2023.11.17 |       hbcca054_0         151 KB  conda-forge\n",
            "    certifi-2023.11.17         |     pyhd8ed1ab_0         155 KB  conda-forge\n",
            "    openssl-3.0.12             |       h7f8727e_0         5.2 MB\n",
            "    ------------------------------------------------------------\n",
            "                                           Total:         5.5 MB\n",
            "\n",
            "The following packages will be UPDATED:\n",
            "\n",
            "  ca-certificates    pkgs/main::ca-certificates-2023.08.22~ --> conda-forge::ca-certificates-2023.11.17-hbcca054_0 \n",
            "  certifi            pkgs/main/linux-64::certifi-2023.7.22~ --> conda-forge/noarch::certifi-2023.11.17-pyhd8ed1ab_0 \n",
            "  openssl                                 3.0.10-h7f8727e_2 --> 3.0.12-h7f8727e_0 \n",
            "\n",
            "\n",
            "Proceed ([y]/n)? y\n",
            "\n",
            "\n",
            "Downloading and Extracting Packages\n",
            "ca-certificates-2023 | 151 KB    | :   0% 0/1 [00:00<?, ?it/s]\n",
            "certifi-2023.11.17   | 155 KB    | :   0% 0/1 [00:00<?, ?it/s]\u001b[A\n",
            "\n",
            "openssl-3.0.12       | 5.2 MB    | :   0% 0/1 [00:00<?, ?it/s]\u001b[A\u001b[A\n",
            "\n",
            "openssl-3.0.12       | 5.2 MB    | :   0% 0.003009625326996416/1 [00:00<01:15, 75.94s/it]\u001b[A\u001b[A\n",
            "ca-certificates-2023 | 151 KB    | :  11% 0.1063088432814031/1 [00:00<00:02,  2.75s/it]\n",
            "certifi-2023.11.17   | 155 KB    | : 100% 1.0/1 [00:00<00:00,  2.44s/it]               \u001b[A\n",
            "\n",
            "ca-certificates-2023 | 151 KB    | : 100% 1.0/1 [00:00<00:00,  2.75s/it]               \n",
            "\n",
            "                                                                        \n",
            "                                                                        \u001b[A\n",
            "\n",
            "                                                                        \u001b[A\u001b[A\n",
            "Preparing transaction: \\ \b\bdone\n",
            "Verifying transaction: / \b\b- \b\b\\ \b\bdone\n",
            "Executing transaction: / \b\b- \b\b\\ \b\b| \b\b/ \b\b- \b\b\\ \b\bdone\n"
          ]
        }
      ]
    },
    {
      "cell_type": "markdown",
      "metadata": {
        "id": "4XlnJIgobDIH"
      },
      "source": [
        "# Install parallel-fastq-dump"
      ]
    },
    {
      "cell_type": "code",
      "metadata": {
        "id": "XYc6vNwya_2I",
        "outputId": "b6a6cfdd-a48b-4593-ee39-2d2a2a73364a",
        "colab": {
          "base_uri": "https://localhost:8080/"
        }
      },
      "source": [
        "!conda install -y parallel-fastq-dump"
      ],
      "execution_count": 4,
      "outputs": [
        {
          "output_type": "stream",
          "name": "stdout",
          "text": [
            "Channels:\n",
            " - conda-forge\n",
            " - bioconda\n",
            " - defaults\n",
            "Platform: linux-64\n",
            "Collecting package metadata (repodata.json): - \b\b\\ \b\b| \b\b/ \b\b- \b\b\\ \b\b| \b\b/ \b\b- \b\b\\ \b\b| \b\b/ \b\b- \b\b\\ \b\b| \b\b/ \b\b- \b\b\\ \b\b| \b\b/ \b\b- \b\b\\ \b\b| \b\b/ \b\b- \b\b\\ \b\b| \b\b/ \b\b- \b\b\\ \b\b| \b\b/ \b\b- \b\b\\ \b\b| \b\b/ \b\b- \b\b\\ \b\b| \b\b/ \b\b- \b\b\\ \b\b| \b\b/ \b\b- \b\b\\ \b\b| \b\b/ \b\b- \b\b\\ \b\b| \b\b/ \b\b- \b\b\\ \b\b| \b\b/ \b\b- \b\b\\ \b\b| \b\b/ \b\b- \b\b\\ \b\b| \b\b/ \b\b- \b\b\\ \b\b| \b\b/ \b\b- \b\b\\ \b\b| \b\b/ \b\b- \b\b\\ \b\b| \b\b/ \b\b- \b\b\\ \b\b| \b\b/ \b\b- \b\b\\ \b\b| \b\b/ \b\b- \b\b\\ \b\b| \b\b/ \b\b- \b\b\\ \b\b| \b\b/ \b\b- \b\b\\ \b\b| \b\b/ \b\b- \b\b\\ \b\b| \b\b/ \b\b- \b\b\\ \b\b| \b\b/ \b\b- \b\b\\ \b\b| \b\b/ \b\b- \b\b\\ \b\b| \b\b/ \b\b- \b\b\\ \b\b| \b\b/ \b\b- \b\b\\ \b\b| \b\b/ \b\b- \b\b\\ \b\b| \b\b/ \b\b- \b\b\\ \b\b| \b\b/ \b\b- \b\b\\ \b\b| \b\b/ \b\b- \b\b\\ \b\b| \b\b/ \b\b- \b\b\\ \b\b| \b\b/ \b\b- \b\b\\ \b\b| \b\b/ \b\b- \b\b\\ \b\b| \b\b/ \b\b- \b\b\\ \b\b| \b\b/ \b\b- \b\b\\ \b\b| \b\b/ \b\b- \b\b\\ \b\b| \b\b/ \b\b- \b\b\\ \b\b| \b\b/ \b\b- \b\b\\ \b\b| \b\b/ \b\b- \b\b\\ \b\b| \b\b/ \b\b- \b\b\\ \b\b| \b\b/ \b\b- \b\b\\ \b\b| \b\b/ \b\b- \b\b\\ \b\b| \b\b/ \b\b- \b\b\\ \b\b| \b\b/ \b\b- \b\b\\ \b\b| \b\b/ \b\b- \b\b\\ \b\b| \b\b/ \b\b- \b\b\\ \b\b| \b\b/ \b\b- \b\b\\ \b\b| \b\b/ \b\b- \b\b\\ \b\b| \b\b/ \b\b- \b\b\\ \b\b| \b\b/ \b\b- \b\b\\ \b\b| \b\b/ \b\b- \b\b\\ \b\b| \b\b/ \b\b- \b\b\\ \b\b| \b\b/ \b\b- \b\b\\ \b\b| \b\b/ \b\b- \b\bdone\n",
            "Solving environment: | \b\b/ \b\b- \b\b\\ \b\b| \b\b/ \b\b- \b\b\\ \b\b| \b\b/ \b\b- \b\b\\ \b\b| \b\b/ \b\b- \b\b\\ \b\b| \b\b/ \b\b- \b\b\\ \b\b| \b\b/ \b\b- \b\b\\ \b\b| \b\b/ \b\b- \b\b\\ \b\b| \b\b/ \b\b- \b\b\\ \b\b| \b\b/ \b\b- \b\b\\ \b\b| \b\b/ \b\b- \b\b\\ \b\b| \b\b/ \b\b- \b\bdone\n",
            "\n",
            "## Package Plan ##\n",
            "\n",
            "  environment location: /usr/local\n",
            "\n",
            "  added / updated specs:\n",
            "    - parallel-fastq-dump\n",
            "\n",
            "\n",
            "The following packages will be downloaded:\n",
            "\n",
            "    package                    |            build\n",
            "    ---------------------------|-----------------\n",
            "    archspec-0.2.2             |     pyhd8ed1ab_0          41 KB  conda-forge\n",
            "    conda-23.9.0               |  py311h38be061_2         1.2 MB  conda-forge\n",
            "    parallel-fastq-dump-0.6.7  |     pyhdfd78af_0          10 KB  bioconda\n",
            "    python_abi-3.11            |          2_cp311           5 KB  conda-forge\n",
            "    sra-tools-2.9.6            |       hf484d3e_0        45.1 MB  bioconda\n",
            "    truststore-0.8.0           |     pyhd8ed1ab_0          20 KB  conda-forge\n",
            "    ------------------------------------------------------------\n",
            "                                           Total:        46.4 MB\n",
            "\n",
            "The following NEW packages will be INSTALLED:\n",
            "\n",
            "  archspec           conda-forge/noarch::archspec-0.2.2-pyhd8ed1ab_0 \n",
            "  parallel-fastq-du~ bioconda/noarch::parallel-fastq-dump-0.6.7-pyhdfd78af_0 \n",
            "  python_abi         conda-forge/linux-64::python_abi-3.11-2_cp311 \n",
            "  sra-tools          bioconda/linux-64::sra-tools-2.9.6-hf484d3e_0 \n",
            "  truststore         conda-forge/noarch::truststore-0.8.0-pyhd8ed1ab_0 \n",
            "\n",
            "The following packages will be UPDATED:\n",
            "\n",
            "  conda              pkgs/main::conda-23.7.4-py311h06a4308~ --> conda-forge::conda-23.9.0-py311h38be061_2 \n",
            "\n",
            "\n",
            "\n",
            "Downloading and Extracting Packages\n",
            "conda-23.9.0         | 1.2 MB    | :   0% 0/1 [00:00<?, ?it/s]\n",
            "sra-tools-2.9.6      | 45.1 MB   | :   0% 0/1 [00:00<?, ?it/s]\u001b[A\n",
            "\n",
            "python_abi-3.11      | 5 KB      | :   0% 0/1 [00:00<?, ?it/s]\u001b[A\u001b[A\n",
            "\n",
            "\n",
            "truststore-0.8.0     | 20 KB     | :   0% 0/1 [00:00<?, ?it/s]\u001b[A\u001b[A\u001b[A\n",
            "\n",
            "\n",
            "\n",
            "parallel-fastq-dump- | 10 KB     | :   0% 0/1 [00:00<?, ?it/s]\u001b[A\u001b[A\u001b[A\u001b[A\n",
            "\n",
            "\n",
            "\n",
            "\n",
            "archspec-0.2.2       | 41 KB     | :   0% 0/1 [00:00<?, ?it/s]\u001b[A\u001b[A\u001b[A\u001b[A\u001b[A\n",
            "\n",
            "\n",
            "\n",
            "parallel-fastq-dump- | 10 KB     | : 100% 1.0/1 [00:00<00:00,  4.55it/s]\u001b[A\u001b[A\u001b[A\u001b[A\n",
            "\n",
            "\n",
            "conda-23.9.0         | 1.2 MB    | :   1% 0.012977014589636763/1 [00:00<00:18, 19.25s/it]\n",
            "\n",
            "\n",
            "\n",
            "parallel-fastq-dump- | 10 KB     | : 100% 1.0/1 [00:00<00:00,  4.55it/s]\u001b[A\u001b[A\u001b[A\u001b[A\n",
            "\n",
            "\n",
            "truststore-0.8.0     | 20 KB     | : 100% 1.0/1 [00:00<00:00,  3.47it/s]               \u001b[A\u001b[A\u001b[A\n",
            "sra-tools-2.9.6      | 45.1 MB   | :   0% 0.00034666371404424543/1 [00:00<12:31, 751.46s/it]\u001b[A\n",
            "\n",
            "python_abi-3.11      | 5 KB      | : 100% 1.0/1 [00:00<00:00,  3.66it/s]\u001b[A\u001b[A\n",
            "\n",
            "\n",
            "\n",
            "\n",
            "archspec-0.2.2       | 41 KB     | :  39% 0.38720960461323944/1 [00:00<00:00,  1.42it/s]\u001b[A\u001b[A\u001b[A\u001b[A\u001b[A\n",
            "\n",
            "python_abi-3.11      | 5 KB      | : 100% 1.0/1 [00:00<00:00,  3.66it/s]\u001b[A\u001b[A\n",
            "\n",
            "\n",
            "\n",
            "\n",
            "archspec-0.2.2       | 41 KB     | : 100% 1.0/1 [00:00<00:00,  1.42it/s]                \u001b[A\u001b[A\u001b[A\u001b[A\u001b[A\n",
            "sra-tools-2.9.6      | 45.1 MB   | :   6% 0.057546176531344743/1 [00:00<00:04,  4.92s/it]   \u001b[A\n",
            "sra-tools-2.9.6      | 45.1 MB   | :  18% 0.18165178615918462/1 [00:00<00:01,  1.81s/it] \u001b[A\n",
            "conda-23.9.0         | 1.2 MB    | : 100% 1.0/1 [00:00<00:00,  1.93it/s]\n",
            "sra-tools-2.9.6      | 45.1 MB   | :  43% 0.4288230142727316/1 [00:00<00:00,  1.08s/it]\u001b[A\n",
            "sra-tools-2.9.6      | 45.1 MB   | :  53% 0.5342087833421822/1 [00:00<00:00,  1.07s/it]\u001b[A\n",
            "sra-tools-2.9.6      | 45.1 MB   | :  66% 0.6621276938245089/1 [00:00<00:00,  1.02it/s]\u001b[A\n",
            "sra-tools-2.9.6      | 45.1 MB   | :  80% 0.8000998520141185/1 [00:00<00:00,  1.13it/s]\u001b[A\n",
            "sra-tools-2.9.6      | 45.1 MB   | : 100% 1.0/1 [00:07<00:00, 14.21s/it]               \u001b[A\n",
            "                                                                        \n",
            "                                                                        \u001b[A\n",
            "\n",
            "                                                                        \u001b[A\u001b[A\n",
            "\n",
            "\n",
            "                                                                        \u001b[A\u001b[A\u001b[A\n",
            "\n",
            "\n",
            "\n",
            "                                                                        \u001b[A\u001b[A\u001b[A\u001b[A\n",
            "\n",
            "\n",
            "\n",
            "\n",
            "                                                                        \u001b[A\u001b[A\u001b[A\u001b[A\u001b[A\n",
            "Preparing transaction: | \b\bdone\n",
            "Verifying transaction: - \b\bdone\n",
            "Executing transaction: | \b\b/ \b\b- \b\b\\ \b\b| \b\b/ \b\b- \b\b\\ \b\bdone\n"
          ]
        }
      ]
    },
    {
      "cell_type": "markdown",
      "metadata": {
        "id": "Ch5Ir5IQay4Q"
      },
      "source": [
        "# Install latest pysradb"
      ]
    },
    {
      "cell_type": "code",
      "metadata": {
        "id": "45_Z9nJPa0q4",
        "outputId": "809e739a-e029-4a99-e402-a08d406b7e52",
        "colab": {
          "base_uri": "https://localhost:8080/"
        }
      },
      "source": [
        "pip install git+https://github.com/saketkc/pysradb"
      ],
      "execution_count": 7,
      "outputs": [
        {
          "output_type": "stream",
          "name": "stdout",
          "text": [
            "Collecting git+https://github.com/saketkc/pysradb\n",
            "  Cloning https://github.com/saketkc/pysradb to /tmp/pip-req-build-ppj0d7p7\n",
            "  Running command git clone --filter=blob:none --quiet https://github.com/saketkc/pysradb /tmp/pip-req-build-ppj0d7p7\n",
            "  Resolved https://github.com/saketkc/pysradb to commit 99d0ef76f85f64659388c219e639c47324e7f213\n",
            "  Preparing metadata (setup.py) ... \u001b[?25l\u001b[?25hdone\n",
            "Requirement already satisfied: lxml>=4.6.3 in /usr/local/lib/python3.11/site-packages (from pysradb==2.2.0) (4.9.3)\n",
            "Requirement already satisfied: pandas>=1.3.2 in /usr/local/lib/python3.11/site-packages (from pysradb==2.2.0) (2.0.3)\n",
            "Requirement already satisfied: requests>=2.26.0 in /usr/local/lib/python3.11/site-packages (from pysradb==2.2.0) (2.31.0)\n",
            "Requirement already satisfied: requests-ftp>=0.3.1 in /usr/local/lib/python3.11/site-packages (from pysradb==2.2.0) (0.3.1)\n",
            "Requirement already satisfied: tqdm>=4.62.1 in /usr/local/lib/python3.11/site-packages (from pysradb==2.2.0) (4.65.0)\n",
            "Requirement already satisfied: xmltodict>=0.12.0 in /usr/local/lib/python3.11/site-packages (from pysradb==2.2.0) (0.13.0)\n",
            "Requirement already satisfied: python-dateutil>=2.8.2 in /usr/local/lib/python3.11/site-packages (from pandas>=1.3.2->pysradb==2.2.0) (2.8.2)\n",
            "Requirement already satisfied: pytz>=2020.1 in /usr/local/lib/python3.11/site-packages (from pandas>=1.3.2->pysradb==2.2.0) (2023.3.post1)\n",
            "Requirement already satisfied: tzdata>=2022.1 in /usr/local/lib/python3.11/site-packages (from pandas>=1.3.2->pysradb==2.2.0) (2023.3)\n",
            "Requirement already satisfied: numpy>=1.21.0 in /usr/local/lib/python3.11/site-packages (from pandas>=1.3.2->pysradb==2.2.0) (1.24.3)\n",
            "Requirement already satisfied: charset-normalizer<4,>=2 in /usr/local/lib/python3.11/site-packages (from requests>=2.26.0->pysradb==2.2.0) (2.0.4)\n",
            "Requirement already satisfied: idna<4,>=2.5 in /usr/local/lib/python3.11/site-packages (from requests>=2.26.0->pysradb==2.2.0) (3.4)\n",
            "Requirement already satisfied: urllib3<3,>=1.21.1 in /usr/local/lib/python3.11/site-packages (from requests>=2.26.0->pysradb==2.2.0) (1.26.16)\n",
            "Requirement already satisfied: certifi>=2017.4.17 in /usr/local/lib/python3.11/site-packages (from requests>=2.26.0->pysradb==2.2.0) (2023.11.17)\n",
            "Requirement already satisfied: six>=1.5 in /usr/local/lib/python3.11/site-packages (from python-dateutil>=2.8.2->pandas>=1.3.2->pysradb==2.2.0) (1.16.0)\n",
            "\u001b[33mWARNING: Running pip as the 'root' user can result in broken permissions and conflicting behaviour with the system package manager. It is recommended to use a virtual environment instead: https://pip.pypa.io/warnings/venv\u001b[0m\u001b[33m\n",
            "\u001b[0m"
          ]
        }
      ]
    },
    {
      "cell_type": "markdown",
      "source": [
        "if you get error please hol nakonid instead of pip use this conda code to install pysradb:conda install -c bioconda pysradb\n",
        "\n",
        "\n",
        "> Indented block\n",
        "\n"
      ],
      "metadata": {
        "id": "J8AKsA0-7jhF"
      }
    },
    {
      "cell_type": "code",
      "source": [
        "!conda install -c bioconda pysradb\n"
      ],
      "metadata": {
        "colab": {
          "base_uri": "https://localhost:8080/"
        },
        "id": "fWz1q-Y9741p",
        "outputId": "9ed4f942-ccb5-45fd-f540-cdc8f32833b4"
      },
      "execution_count": 8,
      "outputs": [
        {
          "output_type": "stream",
          "name": "stdout",
          "text": [
            "Channels:\n",
            " - bioconda\n",
            " - conda-forge\n",
            " - defaults\n",
            "Platform: linux-64\n",
            "Collecting package metadata (repodata.json): - \b\b\\ \b\b| \b\b/ \b\b- \b\b\\ \b\b| \b\b/ \b\b- \b\b\\ \b\b| \b\b/ \b\b- \b\bdone\n",
            "Solving environment: | \b\b/ \b\b- \b\b\\ \b\b| \b\b/ \b\b- \b\b\\ \b\b| \b\b/ \b\b- \b\b\\ \b\b| \b\b/ \b\b- \b\b\\ \b\b| \b\b/ \b\b- \b\b\\ \b\b| \b\b/ \b\b- \b\b\\ \b\b| \b\b/ \b\b- \b\b\\ \b\b| \b\b/ \b\b- \b\b\\ \b\b| \b\b/ \b\b- \b\b\\ \b\b| \b\b/ \b\b- \b\b\\ \b\b| \b\b/ \b\b- \b\b\\ \b\b| \b\b/ \b\b- \b\b\\ \b\b| \b\b/ \b\b- \b\b\\ \b\b| \b\b/ \b\bdone\n",
            "\n",
            "## Package Plan ##\n",
            "\n",
            "  environment location: /usr/local\n",
            "\n",
            "  added / updated specs:\n",
            "    - pysradb\n",
            "\n",
            "\n",
            "The following packages will be downloaded:\n",
            "\n",
            "    package                    |            build\n",
            "    ---------------------------|-----------------\n",
            "    pysradb-2.2.0              |     pyhdfd78af_0         154 KB  bioconda\n",
            "    requests-ftp-0.3.1         |             py_1          11 KB  conda-forge\n",
            "    xmltodict-0.13.0           |     pyhd8ed1ab_0          13 KB  conda-forge\n",
            "    ------------------------------------------------------------\n",
            "                                           Total:         178 KB\n",
            "\n",
            "The following NEW packages will be INSTALLED:\n",
            "\n",
            "  pysradb            bioconda/noarch::pysradb-2.2.0-pyhdfd78af_0 \n",
            "  requests-ftp       conda-forge/noarch::requests-ftp-0.3.1-py_1 \n",
            "  xmltodict          conda-forge/noarch::xmltodict-0.13.0-pyhd8ed1ab_0 \n",
            "\n",
            "\n",
            "Proceed ([y]/n)? y\n",
            "\n",
            "\n",
            "Downloading and Extracting Packages:\n",
            "xmltodict-0.13.0     | 13 KB     | :   0% 0/1 [00:00<?, ?it/s]\n",
            "pysradb-2.2.0        | 154 KB    | :   0% 0/1 [00:00<?, ?it/s]\u001b[A\n",
            "\n",
            "requests-ftp-0.3.1   | 11 KB     | :   0% 0/1 [00:00<?, ?it/s]\u001b[A\u001b[A\n",
            "\n",
            "xmltodict-0.13.0     | 13 KB     | : 100% 1.0/1 [00:00<00:00,  5.42it/s]\n",
            "\n",
            "xmltodict-0.13.0     | 13 KB     | : 100% 1.0/1 [00:00<00:00,  5.42it/s]\n",
            "pysradb-2.2.0        | 154 KB    | :  10% 0.1039257600649536/1 [00:00<00:04,  4.72s/it]\u001b[A\n",
            "                                                                        \n",
            "                                                                        \u001b[A\n",
            "\n",
            "                                                                        \u001b[A\u001b[A\n",
            "Preparing transaction: \\ \b\bdone\n",
            "Verifying transaction: / \b\bdone\n",
            "Executing transaction: \\ \b\b| \b\b/ \b\b- \b\b\\ \b\b| \b\bdone\n"
          ]
        }
      ]
    },
    {
      "cell_type": "markdown",
      "metadata": {
        "id": "IPNGntg4bOGI"
      },
      "source": [
        "# Get metadata"
      ]
    },
    {
      "cell_type": "code",
      "metadata": {
        "id": "jGAxadtxbPoM",
        "outputId": "2bb163ff-7f7c-45b5-dd34-a66fe1e30088",
        "colab": {
          "base_uri": "https://localhost:8080/"
        }
      },
      "source": [
        "!pysradb metadata --detailed \tSRP063852"
      ],
      "execution_count": 9,
      "outputs": [
        {
          "output_type": "stream",
          "name": "stdout",
          "text": [
            "Traceback (most recent call last):\n",
            "  File \"/usr/local/bin/pysradb\", line 10, in <module>\n",
            "    sys.exit(parse_args())\n",
            "             ^^^^^^^^^^^^\n",
            "  File \"/usr/local/lib/python3.11/site-packages/pysradb/cli.py\", line 1172, in parse_args\n",
            "    metadata(\n",
            "  File \"/usr/local/lib/python3.11/site-packages/pysradb/cli.py\", line 68, in metadata\n",
            "    df = sradb.sra_metadata(\n",
            "         ^^^^^^^^^^^^^^^^^^^\n",
            "  File \"/usr/local/lib/python3.11/site-packages/pysradb/sraweb.py\", line 556, in sra_metadata\n",
            "    efetch_result = self.get_efetch_response(\"sra\", srp)\n",
            "                    ^^^^^^^^^^^^^^^^^^^^^^^^^^^^^^^^^^^^\n",
            "  File \"/usr/local/lib/python3.11/site-packages/pysradb/sraweb.py\", line 340, in get_efetch_response\n",
            "    n_records = int(esearch_response[\"esearchresult\"][\"count\"])\n",
            "                    ~~~~~~~~~~~~~~~~~~~~~~~~~~~~~~~~~^^^^^^^^^\n",
            "KeyError: 'count'\n"
          ]
        }
      ]
    },
    {
      "cell_type": "markdown",
      "metadata": {
        "id": "7gdqjIpabSpK"
      },
      "source": [
        "# Download data"
      ]
    },
    {
      "cell_type": "code",
      "metadata": {
        "id": "aZOe5BSrbU3H",
        "outputId": "7c966559-7b57-4497-960d-0455409cbe2a",
        "colab": {
          "base_uri": "https://localhost:8080/"
        }
      },
      "source": [
        "!pysradb download -y -p SRP063852"
      ],
      "execution_count": 10,
      "outputs": [
        {
          "output_type": "stream",
          "name": "stdout",
          "text": [
            "Checking download URLs\n",
            "The following files will be downloaded: \n",
            "\n",
            "run_accession study_accession experiment_accession public_url                                                                                                 download_url                                                                                          out_dir                    filesize\n",
            "SRR2433794    SRP063852       SRX1254413           https://sra-downloadb.be-md.ncbi.nlm.nih.gov/sos5/sra-pub-zq-11/SRR002/433/SRR2433794/SRR2433794.sralite.1 ftp://ftp-trace.ncbi.nlm.nih.gov/sra/sra-instant/reads/ByRun/sra/SRR/SRR243/SRR2433794/SRR2433794.sra /content/pysradb_downloads 278.1 MB\n",
            "\n",
            "\n",
            "Total size: 278.1 MB\n",
            "\n",
            "\n",
            "100% 1/1 [00:04<00:00,  4.47s/it]\n"
          ]
        }
      ]
    },
    {
      "cell_type": "markdown",
      "metadata": {
        "id": "76zV0sHlbbW8"
      },
      "source": [
        "# Run parallel-fastq-dump"
      ]
    },
    {
      "cell_type": "code",
      "metadata": {
        "id": "SRaWzbSCbd77",
        "outputId": "e6f5b05a-f831-4bcb-8d11-93edf8809f0c",
        "colab": {
          "base_uri": "https://localhost:8080/"
        }
      },
      "source": [
        "!ls -ltrh pysradb_downloads"
      ],
      "execution_count": 11,
      "outputs": [
        {
          "output_type": "stream",
          "name": "stdout",
          "text": [
            "total 4.0K\n",
            "drwxr-xr-x 3 root root 4.0K Nov 24 20:08 SRP063852\n"
          ]
        }
      ]
    },
    {
      "cell_type": "code",
      "metadata": {
        "id": "9VgVtnj6bh-s",
        "outputId": "b18cddac-db5f-403d-de62-a2f8e44c7d7e",
        "colab": {
          "base_uri": "https://localhost:8080/"
        }
      },
      "source": [
        "!ls -ltrh pysradb_downloads/SRP063852/SRX1254413"
      ],
      "execution_count": 12,
      "outputs": [
        {
          "output_type": "stream",
          "name": "stdout",
          "text": [
            "total 266M\n",
            "-rw-r--r-- 1 root root 266M Nov 24 20:08 SRR2433794.sra\n"
          ]
        }
      ]
    },
    {
      "cell_type": "markdown",
      "metadata": {
        "id": "YWNr_p7ZeBAI"
      },
      "source": [
        "# SRA to fastq"
      ]
    },
    {
      "cell_type": "code",
      "metadata": {
        "id": "Oc4MlzMtd8fd",
        "outputId": "2502e1e9-a984-4877-8bbd-17145758ed4c",
        "colab": {
          "base_uri": "https://localhost:8080/"
        }
      },
      "source": [
        "!mkdir -p sratofastq && mkdir -p tmpdir && parallel-fastq-dump --threads 4 --outdir sratofastq/ --split-files --tmpdir tmpdir --gzip -s pysradb_downloads/SRP063852/SRX1254413/SRR2433794.sra"
      ],
      "execution_count": 15,
      "outputs": [
        {
          "output_type": "stream",
          "name": "stdout",
          "text": [
            "2023-11-24 20:10:57,761 - SRR ids: ['pysradb_downloads/SRP063852/SRX1254413/SRR2433794.sra']\n",
            "2023-11-24 20:10:57,761 - extra args: ['--split-files', '--gzip']\n",
            "2023-11-24 20:10:57,761 - tempdir: tmpdir/pfd_zwkqx5y2\n",
            "2023-11-24 20:10:57,762 - CMD: sra-stat --meta --quick pysradb_downloads/SRP063852/SRX1254413/SRR2433794.sra\n",
            "2023-11-24 20:10:57,800 - pysradb_downloads/SRP063852/SRX1254413/SRR2433794.sra spots: 31967082\n",
            "2023-11-24 20:10:57,802 - blocks: [[1, 7991770], [7991771, 15983540], [15983541, 23975310], [23975311, 31967082]]\n",
            "2023-11-24 20:10:57,802 - CMD: fastq-dump -N 1 -X 7991770 -O tmpdir/pfd_zwkqx5y2/0 --split-files --gzip pysradb_downloads/SRP063852/SRX1254413/SRR2433794.sra\n",
            "2023-11-24 20:10:57,802 - CMD: fastq-dump -N 7991771 -X 15983540 -O tmpdir/pfd_zwkqx5y2/1 --split-files --gzip pysradb_downloads/SRP063852/SRX1254413/SRR2433794.sra\n",
            "2023-11-24 20:10:57,803 - CMD: fastq-dump -N 15983541 -X 23975310 -O tmpdir/pfd_zwkqx5y2/2 --split-files --gzip pysradb_downloads/SRP063852/SRX1254413/SRR2433794.sra\n",
            "2023-11-24 20:10:57,813 - CMD: fastq-dump -N 23975311 -X 31967082 -O tmpdir/pfd_zwkqx5y2/3 --split-files --gzip pysradb_downloads/SRP063852/SRX1254413/SRR2433794.sra\n",
            "2023-11-24T20:10:57 fastq-dump.2.9.6 err: column not found while opening table within short read archive module - failed pysradb_downloads/SRP063852/SRX1254413/SRR2433794.sra\n",
            "\n",
            "=============================================================\n",
            "An error occurred during processing.\n",
            "A report was generated into the file '/root/ncbi_error_report.xml'.\n",
            "If the problem persists, you may consider sending the file\n",
            "to 'sra-tools@ncbi.nlm.nih.gov' for assistance.\n",
            "=============================================================\n",
            "\n",
            "2023-11-24 20:10:57,943 - fastq-dump error! exit code: 3\n",
            "2023-11-24T20:10:57 fastq-dump.2.9.6 err: column not found while opening table within short read archive module - failed pysradb_downloads/SRP063852/SRX1254413/SRR2433794.sra\n",
            "2023-11-24T20:10:57 fastq-dump.2.9.6 err: column not found while opening table within short read archive module - failed pysradb_downloads/SRP063852/SRX1254413/SRR2433794.sra\n",
            "2023-11-24T20:10:57 fastq-dump.2.9.6 err: column not found while opening table within short read archive module - failed pysradb_downloads/SRP063852/SRX1254413/SRR2433794.sra\n",
            "\n",
            "=============================================================\n",
            "An error occurred during processing.\n",
            "A report was generated into the file '/root/ncbi_error_report.xml'.\n",
            "If the problem persists, you may consider sending the file\n",
            "to 'sra-tools@ncbi.nlm.nih.gov' for assistance.\n",
            "=============================================================\n",
            "\n",
            "\n",
            "=============================================================\n",
            "An error occurred during processing.\n",
            "A report was generated into the file '/root/ncbi_error_report.xml'.\n",
            "If the problem persists, you may consider sending the file\n",
            "to 'sra-tools@ncbi.nlm.nih.gov' for assistance.\n",
            "=============================================================\n",
            "\n",
            "\n",
            "=============================================================\n",
            "An error occurred during processing.\n",
            "A report was generated into the file '/root/ncbi_error_report.xml'.\n",
            "If the problem persists, you may consider sending the file\n",
            "to 'sra-tools@ncbi.nlm.nih.gov' for assistance.\n",
            "=============================================================\n",
            "\n"
          ]
        }
      ]
    },
    {
      "cell_type": "code",
      "metadata": {
        "id": "ASGIodxNeOgS",
        "outputId": "0871166d-c443-44aa-fd6e-41d678083b16",
        "colab": {
          "base_uri": "https://localhost:8080/"
        }
      },
      "source": [
        "!ls -ltrh sratofastq"
      ],
      "execution_count": 16,
      "outputs": [
        {
          "output_type": "stream",
          "name": "stdout",
          "text": [
            "total 0\n"
          ]
        }
      ]
    }
  ]
}